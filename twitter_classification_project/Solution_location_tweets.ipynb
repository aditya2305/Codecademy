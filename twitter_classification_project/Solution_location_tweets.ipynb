{
 "cells": [
  {
   "cell_type": "code",
   "execution_count": 10,
   "metadata": {},
   "outputs": [
    {
     "name": "stdout",
     "output_type": "stream",
     "text": [
      "0.6779324055666004\n"
     ]
    }
   ],
   "source": [
    "import pandas as pd\n",
    "import numpy as np\n",
    "from matplotlib import pyplot as plt\n",
    "from sklearn.model_selection import train_test_split\n",
    "from sklearn.feature_extraction.text import CountVectorizer\n",
    "from sklearn.naive_bayes import MultinomialNB\n",
    "from sklearn.metrics import accuracy_score\n",
    "\n",
    "new_york = pd.read_json('new_york.json', lines= True)\n",
    "london = pd.read_json('london.json', lines= True)\n",
    "paris = pd.read_json('paris.json', lines= True)\n",
    "labels = [0]*len(new_york) + [1]*len(london) + [2]*len(paris)\n",
    "new_york_text = new_york['text'].tolist()\n",
    "london_text = london['text'].tolist()\n",
    "paris_text = paris['text'].tolist()\n",
    "all = new_york_text + london_text + paris_text\n",
    "\n",
    "train_data, test_data, train_labels, test_labels = train_test_split(all, labels, test_size=0.2, random_state=1)\n",
    "\n",
    "counter = CountVectorizer()\n",
    "counter.fit(train_data)\n",
    "train_counts = counter.transform(train_data)\n",
    "test_counts = counter.transform(test_data)\n",
    "\n",
    "model = MultinomialNB()\n",
    "model.fit(train_counts, train_labels)\n",
    "predictions = model.predict(test_counts)\n",
    "accuracy = accuracy_score(test_labels, predictions)\n",
    "print(accuracy)\n"
   ]
  },
  {
   "cell_type": "markdown",
   "metadata": {},
   "source": [
    "# Testing own Tweet\n"
   ]
  },
  {
   "cell_type": "code",
   "execution_count": 16,
   "metadata": {},
   "outputs": [
    {
     "name": "stdout",
     "output_type": "stream",
     "text": [
      "[0]\n"
     ]
    }
   ],
   "source": [
    "tweet = ['Hi, I am chris. I live in new york']\n",
    "tweet_counts = counter.transform(tweet)\n",
    "my_tweet = model.predict(tweet_counts)\n",
    "print(my_tweet)"
   ]
  },
  {
   "cell_type": "code",
   "execution_count": null,
   "metadata": {},
   "outputs": [],
   "source": []
  }
 ],
 "metadata": {
  "kernelspec": {
   "display_name": "Python 3",
   "language": "python",
   "name": "python3"
  },
  "language_info": {
   "codemirror_mode": {
    "name": "ipython",
    "version": 3
   },
   "file_extension": ".py",
   "mimetype": "text/x-python",
   "name": "python",
   "nbconvert_exporter": "python",
   "pygments_lexer": "ipython3",
   "version": "3.7.3"
  }
 },
 "nbformat": 4,
 "nbformat_minor": 2
}
