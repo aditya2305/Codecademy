{
 "cells": [
  {
   "cell_type": "code",
   "execution_count": 1,
   "metadata": {},
   "outputs": [
    {
     "name": "stdout",
     "output_type": "stream",
     "text": [
      "11099\n"
     ]
    }
   ],
   "source": [
    "import pandas as pd\n",
    "import numpy as np\n",
    "\n",
    "all = pd.read_json('./random_tweets.json', lines = True)\n",
    "print(len(all))"
   ]
  },
  {
   "cell_type": "code",
   "execution_count": 7,
   "metadata": {},
   "outputs": [],
   "source": [
    "median_retweet_count = np.median(all['retweet_count'])\n",
    "all['is_viral'] = np.where(all['retweet_count'] > median_retweet_count, 1, 0)"
   ]
  },
  {
   "cell_type": "code",
   "execution_count": 6,
   "metadata": {},
   "outputs": [
    {
     "name": "stdout",
     "output_type": "stream",
     "text": [
      "0        0\n",
      "1        0\n",
      "2        0\n",
      "3        1\n",
      "4        1\n",
      "5        1\n",
      "6        0\n",
      "7        1\n",
      "8        1\n",
      "9        1\n",
      "10       0\n",
      "11       0\n",
      "12       1\n",
      "13       0\n",
      "14       1\n",
      "15       0\n",
      "16       1\n",
      "17       1\n",
      "18       1\n",
      "19       1\n",
      "20       1\n",
      "21       0\n",
      "22       1\n",
      "23       0\n",
      "24       0\n",
      "25       0\n",
      "26       0\n",
      "27       0\n",
      "28       1\n",
      "29       0\n",
      "        ..\n",
      "11069    1\n",
      "11070    0\n",
      "11071    1\n",
      "11072    1\n",
      "11073    1\n",
      "11074    0\n",
      "11075    1\n",
      "11076    0\n",
      "11077    1\n",
      "11078    0\n",
      "11079    0\n",
      "11080    1\n",
      "11081    0\n",
      "11082    1\n",
      "11083    1\n",
      "11084    0\n",
      "11085    1\n",
      "11086    0\n",
      "11087    1\n",
      "11088    1\n",
      "11089    0\n",
      "11090    0\n",
      "11091    1\n",
      "11092    0\n",
      "11093    1\n",
      "11094    1\n",
      "11095    1\n",
      "11096    0\n",
      "11097    0\n",
      "11098    0\n",
      "Name: is_viral, Length: 11099, dtype: int64\n"
     ]
    }
   ],
   "source": [
    "print(all['is_viral'])"
   ]
  },
  {
   "cell_type": "code",
   "execution_count": 15,
   "metadata": {},
   "outputs": [],
   "source": [
    "all['tweet_length'] = all.apply(lambda tweet: len(tweet['text']), axis=1)\n",
    "all['followers_count'] = all.apply(lambda tweet: tweet['user']['followers_count'], axis=1)\n",
    "all['friends_count'] = all.apply(lambda tweet: tweet['user']['friends_count'], axis=1)\n"
   ]
  },
  {
   "cell_type": "code",
   "execution_count": 9,
   "metadata": {},
   "outputs": [],
   "source": [
    "labels = all['is_viral'].tolist()"
   ]
  },
  {
   "cell_type": "code",
   "execution_count": 16,
   "metadata": {},
   "outputs": [],
   "source": [
    "data = all[['tweet_length', 'followers_count', 'friends_count']]"
   ]
  },
  {
   "cell_type": "code",
   "execution_count": 17,
   "metadata": {},
   "outputs": [
    {
     "name": "stderr",
     "output_type": "stream",
     "text": [
      "/home/parth/anaconda3/lib/python3.7/site-packages/ipykernel_launcher.py:2: DataConversionWarning: Data with input dtype int64 were all converted to float64 by the scale function.\n",
      "  \n"
     ]
    }
   ],
   "source": [
    "from sklearn.preprocessing import scale\n",
    "data = scale(data, axis=0)"
   ]
  },
  {
   "cell_type": "code",
   "execution_count": 18,
   "metadata": {},
   "outputs": [],
   "source": [
    "from sklearn.model_selection import train_test_split\n",
    "train_data, test_data, train_labels, test_labels = train_test_split(data, labels)"
   ]
  },
  {
   "cell_type": "code",
   "execution_count": 36,
   "metadata": {},
   "outputs": [
    {
     "name": "stdout",
     "output_type": "stream",
     "text": [
      "0.6187387387387387\n"
     ]
    }
   ],
   "source": [
    "from sklearn.neighbors import KNeighborsClassifier\n",
    "k_values=[]\n",
    "scores=[]\n",
    "for i in range(1,200):\n",
    " model = KNeighborsClassifier(n_neighbors=i)\n",
    " model.fit(train_data, train_labels)\n",
    " scores.append(model.score(test_data, test_labels))\n",
    " k_values.append(i)\n",
    "print(max(scores))    "
   ]
  },
  {
   "cell_type": "code",
   "execution_count": 37,
   "metadata": {},
   "outputs": [
    {
     "data": {
      "image/png": "[encoded data removed]",
      "text/plain": [
       "<Figure size 432x288 with 1 Axes>"
      ]
     },
     "metadata": {
      "needs_background": "light"
     },
     "output_type": "display_data"
    }
   ],
   "source": [
    "import matplotlib.pyplot as plt\n",
    "plt.plot(k_values, scores)\n",
    "plt.show()"
   ]
  },
  {
   "cell_type": "code",
   "execution_count": null,
   "metadata": {},
   "outputs": [],
   "source": []
  }
 ],
 "metadata": {
  "kernelspec": {
   "display_name": "Python 3",
   "language": "python",
   "name": "python3"
  },
  "language_info": {
   "codemirror_mode": {
    "name": "ipython",
    "version": 3
   },
   "file_extension": ".py",
   "mimetype": "text/x-python",
   "name": "python",
   "nbconvert_exporter": "python",
   "pygments_lexer": "ipython3",
   "version": "3.7.3"
  }
 },
 "nbformat": 4,
 "nbformat_minor": 2
}
